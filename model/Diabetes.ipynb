{
 "cells": [
  {
   "cell_type": "markdown",
   "id": "c02efb62",
   "metadata": {},
   "source": [
    "# Import Library"
   ]
  },
  {
   "cell_type": "code",
   "execution_count": 1,
   "id": "57fb889f",
   "metadata": {},
   "outputs": [],
   "source": [
    "import numpy as np"
   ]
  },
  {
   "cell_type": "code",
   "execution_count": 2,
   "id": "ece0bb1e",
   "metadata": {},
   "outputs": [],
   "source": [
    "import pandas as pd"
   ]
  },
  {
   "cell_type": "code",
   "execution_count": 4,
   "id": "605f6c54",
   "metadata": {},
   "outputs": [],
   "source": [
    "from sklearn.linear_model import LogisticRegression"
   ]
  },
  {
   "cell_type": "code",
   "execution_count": 5,
   "id": "6dd4ab9c",
   "metadata": {},
   "outputs": [],
   "source": [
    "from sklearn.model_selection import train_test_split"
   ]
  },
  {
   "cell_type": "code",
   "execution_count": 6,
   "id": "515d0e71",
   "metadata": {},
   "outputs": [],
   "source": [
    "from sklearn.metrics import confusion_matrix, classification_report, accuracy_score"
   ]
  },
  {
   "cell_type": "code",
   "execution_count": 7,
   "id": "07e3ae4e",
   "metadata": {},
   "outputs": [],
   "source": [
    "from sklearn.metrics import precision_score, recall_score, f1_score"
   ]
  },
  {
   "cell_type": "code",
   "execution_count": 8,
   "id": "509d5484",
   "metadata": {},
   "outputs": [],
   "source": [
    "from sklearn.metrics import plot_confusion_matrix"
   ]
  },
  {
   "cell_type": "code",
   "execution_count": 9,
   "id": "4e64c4a5",
   "metadata": {},
   "outputs": [],
   "source": [
    "from sklearn.metrics import roc_curve, roc_auc_score, auc"
   ]
  },
  {
   "cell_type": "code",
   "execution_count": 10,
   "id": "76839531",
   "metadata": {},
   "outputs": [],
   "source": [
    "import matplotlib.pyplot as plt"
   ]
  },
  {
   "cell_type": "code",
   "execution_count": 11,
   "id": "92d9179a",
   "metadata": {},
   "outputs": [],
   "source": [
    "import seaborn as sns"
   ]
  },
  {
   "cell_type": "code",
   "execution_count": 12,
   "id": "b6e7b91e",
   "metadata": {},
   "outputs": [],
   "source": [
    "import warnings\n",
    "warnings.filterwarnings(\"ignore\")"
   ]
  },
  {
   "cell_type": "markdown",
   "id": "91638679",
   "metadata": {},
   "source": [
    "# Problem Statement"
   ]
  },
  {
   "cell_type": "code",
   "execution_count": null,
   "id": "20f61879",
   "metadata": {},
   "outputs": [],
   "source": [
    "Predict whether a person has diabetes or not "
   ]
  },
  {
   "cell_type": "markdown",
   "id": "85862345",
   "metadata": {},
   "source": [
    "# Data Gathering"
   ]
  },
  {
   "cell_type": "code",
   "execution_count": 13,
   "id": "3b3a3269",
   "metadata": {},
   "outputs": [
    {
     "data": {
      "text/html": [
       "<div>\n",
       "<style scoped>\n",
       "    .dataframe tbody tr th:only-of-type {\n",
       "        vertical-align: middle;\n",
       "    }\n",
       "\n",
       "    .dataframe tbody tr th {\n",
       "        vertical-align: top;\n",
       "    }\n",
       "\n",
       "    .dataframe thead th {\n",
       "        text-align: right;\n",
       "    }\n",
       "</style>\n",
       "<table border=\"1\" class=\"dataframe\">\n",
       "  <thead>\n",
       "    <tr style=\"text-align: right;\">\n",
       "      <th></th>\n",
       "      <th>Glucose</th>\n",
       "      <th>BloodPressure</th>\n",
       "      <th>SkinThickness</th>\n",
       "      <th>Insulin</th>\n",
       "      <th>BMI</th>\n",
       "      <th>DiabetesPedigreeFunction</th>\n",
       "      <th>Age</th>\n",
       "      <th>Outcome</th>\n",
       "    </tr>\n",
       "  </thead>\n",
       "  <tbody>\n",
       "    <tr>\n",
       "      <th>0</th>\n",
       "      <td>148</td>\n",
       "      <td>50</td>\n",
       "      <td>35</td>\n",
       "      <td>0</td>\n",
       "      <td>33.6</td>\n",
       "      <td>0.627</td>\n",
       "      <td>50</td>\n",
       "      <td>1</td>\n",
       "    </tr>\n",
       "    <tr>\n",
       "      <th>1</th>\n",
       "      <td>85</td>\n",
       "      <td>66</td>\n",
       "      <td>29</td>\n",
       "      <td>0</td>\n",
       "      <td>26.6</td>\n",
       "      <td>0.351</td>\n",
       "      <td>31</td>\n",
       "      <td>0</td>\n",
       "    </tr>\n",
       "    <tr>\n",
       "      <th>2</th>\n",
       "      <td>183</td>\n",
       "      <td>64</td>\n",
       "      <td>0</td>\n",
       "      <td>0</td>\n",
       "      <td>23.3</td>\n",
       "      <td>0.672</td>\n",
       "      <td>52</td>\n",
       "      <td>1</td>\n",
       "    </tr>\n",
       "    <tr>\n",
       "      <th>3</th>\n",
       "      <td>150</td>\n",
       "      <td>66</td>\n",
       "      <td>23</td>\n",
       "      <td>94</td>\n",
       "      <td>28.1</td>\n",
       "      <td>0.167</td>\n",
       "      <td>21</td>\n",
       "      <td>0</td>\n",
       "    </tr>\n",
       "    <tr>\n",
       "      <th>4</th>\n",
       "      <td>150</td>\n",
       "      <td>40</td>\n",
       "      <td>35</td>\n",
       "      <td>168</td>\n",
       "      <td>43.1</td>\n",
       "      <td>2.288</td>\n",
       "      <td>33</td>\n",
       "      <td>1</td>\n",
       "    </tr>\n",
       "    <tr>\n",
       "      <th>...</th>\n",
       "      <td>...</td>\n",
       "      <td>...</td>\n",
       "      <td>...</td>\n",
       "      <td>...</td>\n",
       "      <td>...</td>\n",
       "      <td>...</td>\n",
       "      <td>...</td>\n",
       "      <td>...</td>\n",
       "    </tr>\n",
       "    <tr>\n",
       "      <th>763</th>\n",
       "      <td>101</td>\n",
       "      <td>76</td>\n",
       "      <td>48</td>\n",
       "      <td>180</td>\n",
       "      <td>32.9</td>\n",
       "      <td>0.171</td>\n",
       "      <td>63</td>\n",
       "      <td>0</td>\n",
       "    </tr>\n",
       "    <tr>\n",
       "      <th>764</th>\n",
       "      <td>122</td>\n",
       "      <td>70</td>\n",
       "      <td>27</td>\n",
       "      <td>0</td>\n",
       "      <td>36.8</td>\n",
       "      <td>0.340</td>\n",
       "      <td>27</td>\n",
       "      <td>0</td>\n",
       "    </tr>\n",
       "    <tr>\n",
       "      <th>765</th>\n",
       "      <td>121</td>\n",
       "      <td>72</td>\n",
       "      <td>23</td>\n",
       "      <td>112</td>\n",
       "      <td>26.2</td>\n",
       "      <td>0.245</td>\n",
       "      <td>30</td>\n",
       "      <td>0</td>\n",
       "    </tr>\n",
       "    <tr>\n",
       "      <th>766</th>\n",
       "      <td>126</td>\n",
       "      <td>60</td>\n",
       "      <td>0</td>\n",
       "      <td>0</td>\n",
       "      <td>30.1</td>\n",
       "      <td>0.349</td>\n",
       "      <td>47</td>\n",
       "      <td>1</td>\n",
       "    </tr>\n",
       "    <tr>\n",
       "      <th>767</th>\n",
       "      <td>93</td>\n",
       "      <td>70</td>\n",
       "      <td>31</td>\n",
       "      <td>0</td>\n",
       "      <td>30.4</td>\n",
       "      <td>0.315</td>\n",
       "      <td>23</td>\n",
       "      <td>0</td>\n",
       "    </tr>\n",
       "  </tbody>\n",
       "</table>\n",
       "<p>768 rows × 8 columns</p>\n",
       "</div>"
      ],
      "text/plain": [
       "     Glucose  BloodPressure  SkinThickness  Insulin   BMI  \\\n",
       "0        148             50             35        0  33.6   \n",
       "1         85             66             29        0  26.6   \n",
       "2        183             64              0        0  23.3   \n",
       "3        150             66             23       94  28.1   \n",
       "4        150             40             35      168  43.1   \n",
       "..       ...            ...            ...      ...   ...   \n",
       "763      101             76             48      180  32.9   \n",
       "764      122             70             27        0  36.8   \n",
       "765      121             72             23      112  26.2   \n",
       "766      126             60              0        0  30.1   \n",
       "767       93             70             31        0  30.4   \n",
       "\n",
       "     DiabetesPedigreeFunction  Age  Outcome  \n",
       "0                       0.627   50        1  \n",
       "1                       0.351   31        0  \n",
       "2                       0.672   52        1  \n",
       "3                       0.167   21        0  \n",
       "4                       2.288   33        1  \n",
       "..                        ...  ...      ...  \n",
       "763                     0.171   63        0  \n",
       "764                     0.340   27        0  \n",
       "765                     0.245   30        0  \n",
       "766                     0.349   47        1  \n",
       "767                     0.315   23        0  \n",
       "\n",
       "[768 rows x 8 columns]"
      ]
     },
     "execution_count": 13,
     "metadata": {},
     "output_type": "execute_result"
    }
   ],
   "source": [
    "df = pd.read_csv('diabetes.csv')\n",
    "df"
   ]
  },
  {
   "cell_type": "markdown",
   "id": "04a4551f",
   "metadata": {},
   "source": [
    "# Exploratory Data Analysis"
   ]
  },
  {
   "cell_type": "code",
   "execution_count": 14,
   "id": "e0107dca",
   "metadata": {},
   "outputs": [
    {
     "name": "stdout",
     "output_type": "stream",
     "text": [
      "<class 'pandas.core.frame.DataFrame'>\n",
      "RangeIndex: 768 entries, 0 to 767\n",
      "Data columns (total 8 columns):\n",
      " #   Column                    Non-Null Count  Dtype  \n",
      "---  ------                    --------------  -----  \n",
      " 0   Glucose                   768 non-null    int64  \n",
      " 1   BloodPressure             768 non-null    int64  \n",
      " 2   SkinThickness             768 non-null    int64  \n",
      " 3   Insulin                   768 non-null    int64  \n",
      " 4   BMI                       768 non-null    float64\n",
      " 5   DiabetesPedigreeFunction  768 non-null    float64\n",
      " 6   Age                       768 non-null    int64  \n",
      " 7   Outcome                   768 non-null    int64  \n",
      "dtypes: float64(2), int64(6)\n",
      "memory usage: 48.1 KB\n"
     ]
    }
   ],
   "source": [
    "df.info()"
   ]
  },
  {
   "cell_type": "code",
   "execution_count": 15,
   "id": "8df2bc8b",
   "metadata": {},
   "outputs": [
    {
     "data": {
      "text/html": [
       "<div>\n",
       "<style scoped>\n",
       "    .dataframe tbody tr th:only-of-type {\n",
       "        vertical-align: middle;\n",
       "    }\n",
       "\n",
       "    .dataframe tbody tr th {\n",
       "        vertical-align: top;\n",
       "    }\n",
       "\n",
       "    .dataframe thead th {\n",
       "        text-align: right;\n",
       "    }\n",
       "</style>\n",
       "<table border=\"1\" class=\"dataframe\">\n",
       "  <thead>\n",
       "    <tr style=\"text-align: right;\">\n",
       "      <th></th>\n",
       "      <th>Glucose</th>\n",
       "      <th>BloodPressure</th>\n",
       "      <th>SkinThickness</th>\n",
       "      <th>Insulin</th>\n",
       "      <th>BMI</th>\n",
       "      <th>DiabetesPedigreeFunction</th>\n",
       "      <th>Age</th>\n",
       "      <th>Outcome</th>\n",
       "    </tr>\n",
       "  </thead>\n",
       "  <tbody>\n",
       "    <tr>\n",
       "      <th>count</th>\n",
       "      <td>768.000000</td>\n",
       "      <td>768.000000</td>\n",
       "      <td>768.000000</td>\n",
       "      <td>768.000000</td>\n",
       "      <td>768.000000</td>\n",
       "      <td>768.000000</td>\n",
       "      <td>768.000000</td>\n",
       "      <td>768.000000</td>\n",
       "    </tr>\n",
       "    <tr>\n",
       "      <th>mean</th>\n",
       "      <td>121.117188</td>\n",
       "      <td>69.076823</td>\n",
       "      <td>20.536458</td>\n",
       "      <td>79.799479</td>\n",
       "      <td>31.992578</td>\n",
       "      <td>0.471876</td>\n",
       "      <td>33.243490</td>\n",
       "      <td>0.348958</td>\n",
       "    </tr>\n",
       "    <tr>\n",
       "      <th>std</th>\n",
       "      <td>31.805091</td>\n",
       "      <td>19.367794</td>\n",
       "      <td>15.952218</td>\n",
       "      <td>115.244002</td>\n",
       "      <td>7.884160</td>\n",
       "      <td>0.331329</td>\n",
       "      <td>11.758182</td>\n",
       "      <td>0.476951</td>\n",
       "    </tr>\n",
       "    <tr>\n",
       "      <th>min</th>\n",
       "      <td>0.000000</td>\n",
       "      <td>0.000000</td>\n",
       "      <td>0.000000</td>\n",
       "      <td>0.000000</td>\n",
       "      <td>0.000000</td>\n",
       "      <td>0.078000</td>\n",
       "      <td>21.000000</td>\n",
       "      <td>0.000000</td>\n",
       "    </tr>\n",
       "    <tr>\n",
       "      <th>25%</th>\n",
       "      <td>99.000000</td>\n",
       "      <td>62.000000</td>\n",
       "      <td>0.000000</td>\n",
       "      <td>0.000000</td>\n",
       "      <td>27.300000</td>\n",
       "      <td>0.243750</td>\n",
       "      <td>24.000000</td>\n",
       "      <td>0.000000</td>\n",
       "    </tr>\n",
       "    <tr>\n",
       "      <th>50%</th>\n",
       "      <td>117.000000</td>\n",
       "      <td>72.000000</td>\n",
       "      <td>23.000000</td>\n",
       "      <td>30.500000</td>\n",
       "      <td>32.000000</td>\n",
       "      <td>0.372500</td>\n",
       "      <td>29.000000</td>\n",
       "      <td>0.000000</td>\n",
       "    </tr>\n",
       "    <tr>\n",
       "      <th>75%</th>\n",
       "      <td>142.000000</td>\n",
       "      <td>80.000000</td>\n",
       "      <td>32.000000</td>\n",
       "      <td>127.250000</td>\n",
       "      <td>36.600000</td>\n",
       "      <td>0.626250</td>\n",
       "      <td>41.000000</td>\n",
       "      <td>1.000000</td>\n",
       "    </tr>\n",
       "    <tr>\n",
       "      <th>max</th>\n",
       "      <td>199.000000</td>\n",
       "      <td>122.000000</td>\n",
       "      <td>99.000000</td>\n",
       "      <td>846.000000</td>\n",
       "      <td>67.100000</td>\n",
       "      <td>2.420000</td>\n",
       "      <td>81.000000</td>\n",
       "      <td>1.000000</td>\n",
       "    </tr>\n",
       "  </tbody>\n",
       "</table>\n",
       "</div>"
      ],
      "text/plain": [
       "          Glucose  BloodPressure  SkinThickness     Insulin         BMI  \\\n",
       "count  768.000000     768.000000     768.000000  768.000000  768.000000   \n",
       "mean   121.117188      69.076823      20.536458   79.799479   31.992578   \n",
       "std     31.805091      19.367794      15.952218  115.244002    7.884160   \n",
       "min      0.000000       0.000000       0.000000    0.000000    0.000000   \n",
       "25%     99.000000      62.000000       0.000000    0.000000   27.300000   \n",
       "50%    117.000000      72.000000      23.000000   30.500000   32.000000   \n",
       "75%    142.000000      80.000000      32.000000  127.250000   36.600000   \n",
       "max    199.000000     122.000000      99.000000  846.000000   67.100000   \n",
       "\n",
       "       DiabetesPedigreeFunction         Age     Outcome  \n",
       "count                768.000000  768.000000  768.000000  \n",
       "mean                   0.471876   33.243490    0.348958  \n",
       "std                    0.331329   11.758182    0.476951  \n",
       "min                    0.078000   21.000000    0.000000  \n",
       "25%                    0.243750   24.000000    0.000000  \n",
       "50%                    0.372500   29.000000    0.000000  \n",
       "75%                    0.626250   41.000000    1.000000  \n",
       "max                    2.420000   81.000000    1.000000  "
      ]
     },
     "execution_count": 15,
     "metadata": {},
     "output_type": "execute_result"
    }
   ],
   "source": [
    "df.describe()"
   ]
  },
  {
   "cell_type": "markdown",
   "id": "af551d66",
   "metadata": {},
   "source": [
    "# Feature Selection"
   ]
  },
  {
   "cell_type": "markdown",
   "id": "a32c5a07",
   "metadata": {},
   "source": [
    "# Feature Engineering"
   ]
  },
  {
   "cell_type": "markdown",
   "id": "68e98ff5",
   "metadata": {},
   "source": [
    "# Model Building"
   ]
  },
  {
   "cell_type": "code",
   "execution_count": 18,
   "id": "1c405bc2",
   "metadata": {},
   "outputs": [],
   "source": [
    "x = df.drop('Outcome', axis = 1)\n",
    "y = df['Outcome']\n",
    "\n",
    "x_train, x_test, y_train, y_test = train_test_split(x, y, test_size= 0.25, random_state=1, stratify = y)\n",
    "#stratify : sorting data, people, and objects into distinct groups or layers"
   ]
  },
  {
   "cell_type": "code",
   "execution_count": 19,
   "id": "a6dfdc7b",
   "metadata": {},
   "outputs": [
    {
     "data": {
      "text/plain": [
       "0    500\n",
       "1    268\n",
       "Name: Outcome, dtype: int64"
      ]
     },
     "execution_count": 19,
     "metadata": {},
     "output_type": "execute_result"
    }
   ],
   "source": [
    "y.value_counts()"
   ]
  },
  {
   "cell_type": "code",
   "execution_count": 20,
   "id": "72f25d89",
   "metadata": {},
   "outputs": [
    {
     "data": {
      "text/plain": [
       "0.6510416666666666"
      ]
     },
     "execution_count": 20,
     "metadata": {},
     "output_type": "execute_result"
    }
   ],
   "source": [
    "500/(500+268)"
   ]
  },
  {
   "cell_type": "code",
   "execution_count": 21,
   "id": "3ce51cb0",
   "metadata": {},
   "outputs": [
    {
     "data": {
      "text/plain": [
       "0    375\n",
       "1    201\n",
       "Name: Outcome, dtype: int64"
      ]
     },
     "execution_count": 21,
     "metadata": {},
     "output_type": "execute_result"
    }
   ],
   "source": [
    "y_train.value_counts()"
   ]
  },
  {
   "cell_type": "code",
   "execution_count": 22,
   "id": "f4132619",
   "metadata": {},
   "outputs": [
    {
     "data": {
      "text/plain": [
       "0.6510416666666666"
      ]
     },
     "execution_count": 22,
     "metadata": {},
     "output_type": "execute_result"
    }
   ],
   "source": [
    "375/(375+201)"
   ]
  },
  {
   "cell_type": "code",
   "execution_count": 23,
   "id": "75bbf706",
   "metadata": {},
   "outputs": [
    {
     "data": {
      "text/plain": [
       "0    125\n",
       "1     67\n",
       "Name: Outcome, dtype: int64"
      ]
     },
     "execution_count": 23,
     "metadata": {},
     "output_type": "execute_result"
    }
   ],
   "source": [
    "y_test.value_counts()"
   ]
  },
  {
   "cell_type": "code",
   "execution_count": 24,
   "id": "d6879655",
   "metadata": {},
   "outputs": [
    {
     "data": {
      "text/plain": [
       "0.6510416666666666"
      ]
     },
     "execution_count": 24,
     "metadata": {},
     "output_type": "execute_result"
    }
   ],
   "source": [
    "125/(125+67)"
   ]
  },
  {
   "cell_type": "markdown",
   "id": "83408491",
   "metadata": {},
   "source": [
    "# Model Training"
   ]
  },
  {
   "cell_type": "code",
   "execution_count": 25,
   "id": "531195cf",
   "metadata": {},
   "outputs": [
    {
     "data": {
      "text/plain": [
       "LogisticRegression()"
      ]
     },
     "execution_count": 25,
     "metadata": {},
     "output_type": "execute_result"
    }
   ],
   "source": [
    "#create Instance\n",
    "model = LogisticRegression()\n",
    "model.fit(x_train, y_train)"
   ]
  },
  {
   "cell_type": "code",
   "execution_count": 26,
   "id": "4818073b",
   "metadata": {},
   "outputs": [
    {
     "data": {
      "text/plain": [
       "<sklearn.metrics._plot.confusion_matrix.ConfusionMatrixDisplay at 0x25462c2d550>"
      ]
     },
     "execution_count": 26,
     "metadata": {},
     "output_type": "execute_result"
    },
    {
     "data": {
      "image/png": "[encoded data removed]",
      "text/plain": [
       "<Figure size 432x288 with 2 Axes>"
      ]
     },
     "metadata": {
      "needs_background": "light"
     },
     "output_type": "display_data"
    }
   ],
   "source": [
    "#Training Data\n",
    "plot_confusion_matrix(model, x_train, y_train)"
   ]
  },
  {
   "cell_type": "code",
   "execution_count": 27,
   "id": "585b261f",
   "metadata": {},
   "outputs": [
    {
     "data": {
      "text/plain": [
       "<sklearn.metrics._plot.confusion_matrix.ConfusionMatrixDisplay at 0x2546a718f10>"
      ]
     },
     "execution_count": 27,
     "metadata": {},
     "output_type": "execute_result"
    },
    {
     "data": {
      "image/png": "[encoded data removed]",
      "text/plain": [
       "<Figure size 432x288 with 2 Axes>"
      ]
     },
     "metadata": {
      "needs_background": "light"
     },
     "output_type": "display_data"
    }
   ],
   "source": [
    "#Testing Data\n",
    "plot_confusion_matrix(model, x_test, y_test)"
   ]
  },
  {
   "cell_type": "code",
   "execution_count": 28,
   "id": "2ce5b046",
   "metadata": {},
   "outputs": [
    {
     "data": {
      "text/plain": [
       "0.7881944444444444"
      ]
     },
     "execution_count": 28,
     "metadata": {},
     "output_type": "execute_result"
    }
   ],
   "source": [
    "#Training Accuracy\n",
    "model.score(x_train, y_train)"
   ]
  },
  {
   "cell_type": "code",
   "execution_count": 29,
   "id": "a6f42765",
   "metadata": {},
   "outputs": [
    {
     "data": {
      "text/plain": [
       "0.7552083333333334"
      ]
     },
     "execution_count": 29,
     "metadata": {},
     "output_type": "execute_result"
    }
   ],
   "source": [
    "#testing Accuracy\n",
    "model.score(x_test, y_test)"
   ]
  },
  {
   "cell_type": "markdown",
   "id": "cef1988e",
   "metadata": {},
   "source": [
    "# Model Evaluation"
   ]
  },
  {
   "cell_type": "code",
   "execution_count": 30,
   "id": "e3510bda",
   "metadata": {},
   "outputs": [
    {
     "data": {
      "text/plain": [
       "array([0, 1, 0, 1, 0, 0, 1, 1, 1, 0, 1, 0, 0, 1, 0, 0, 1, 0, 1, 0, 0, 0,\n",
       "       0, 0, 0, 1, 1, 0, 0, 0, 0, 1, 0, 1, 0, 0, 0, 0, 0, 1, 0, 1, 0, 1,\n",
       "       0, 1, 1, 0, 0, 0, 1, 0, 0, 1, 0, 0, 1, 1, 1, 0, 0, 0, 0, 0, 0, 0,\n",
       "       0, 0, 0, 0, 0, 0, 0, 1, 1, 0, 0, 0, 0, 1, 0, 0, 0, 0, 0, 0, 0, 0,\n",
       "       0, 0, 0, 1, 0, 0, 1, 0, 0, 1, 0, 0, 1, 0, 1, 0, 0, 0, 0, 1, 1, 0,\n",
       "       0, 1, 0, 0, 0, 0, 0, 0, 0, 1, 0, 0, 0, 1, 1, 1, 0, 1, 0, 0, 0, 0,\n",
       "       0, 1, 0, 0, 1, 0, 1, 0, 1, 0, 1, 0, 1, 0, 0, 0, 1, 0, 0, 0, 0, 0,\n",
       "       0, 1, 0, 0, 0, 0, 0, 0, 0, 0, 0, 1, 1, 0, 0, 1, 0, 0, 0, 0, 1, 0,\n",
       "       0, 0, 0, 0, 0, 0, 0, 1, 0, 1, 0, 1, 0, 0, 0, 0], dtype=int64)"
      ]
     },
     "execution_count": 30,
     "metadata": {},
     "output_type": "execute_result"
    }
   ],
   "source": [
    "#Prediction\n",
    "y_pred = model.predict(x_test)\n",
    "y_pred"
   ]
  },
  {
   "cell_type": "code",
   "execution_count": 31,
   "id": "b29cc79d",
   "metadata": {},
   "outputs": [
    {
     "data": {
      "text/plain": [
       "array([0, 1, 0, 1, 0, 0, 1, 1, 1, 0, 1, 0, 0, 1, 0, 0, 1, 0, 1, 0, 0, 0,\n",
       "       0, 0, 0, 1, 1, 0, 0, 0, 0, 1, 0, 1, 0, 0, 0, 0, 0, 1, 0, 1, 0, 1,\n",
       "       0, 1, 1, 0, 0, 0, 1, 0, 0, 1, 0, 0, 1, 1, 1, 0, 0, 0, 0, 0, 0, 0,\n",
       "       0, 0, 0, 0, 0, 0, 0, 1, 1, 0, 0, 0, 0, 1, 0, 0, 0, 0, 0, 0, 0, 0,\n",
       "       0, 0, 0, 1, 0, 0, 1, 0, 0, 1, 0, 0, 1, 0, 1, 0, 0, 0, 0, 1, 1, 0,\n",
       "       0, 1, 0, 0, 0, 0, 0, 0, 0, 1, 0, 0, 0, 1, 1, 1, 0, 1, 0, 0, 0, 0,\n",
       "       0, 1, 0, 0, 1, 0, 1, 0, 1, 0, 1, 0, 1, 0, 0, 0, 1, 0, 0, 0, 0, 0,\n",
       "       0, 1, 0, 0, 0, 0, 0, 0, 0, 0, 0, 1, 1, 0, 0, 1, 0, 0, 0, 0, 1, 0,\n",
       "       0, 0, 0, 0, 0, 0, 0, 1, 0, 1, 0, 1, 0, 0, 0, 0], dtype=int64)"
      ]
     },
     "execution_count": 31,
     "metadata": {},
     "output_type": "execute_result"
    }
   ],
   "source": [
    "y_pred_train = model.predict(x_train)\n",
    "y_pred"
   ]
  },
  {
   "cell_type": "code",
   "execution_count": 30,
   "id": "0846fd6a",
   "metadata": {},
   "outputs": [
    {
     "data": {
      "text/plain": [
       "array([[0.91636267, 0.08363733],\n",
       "       [0.32428013, 0.67571987],\n",
       "       [0.74017864, 0.25982136],\n",
       "       [0.46076794, 0.53923206],\n",
       "       [0.87524548, 0.12475452],\n",
       "       [0.9781938 , 0.0218062 ],\n",
       "       [0.10279795, 0.89720205],\n",
       "       [0.1903076 , 0.8096924 ],\n",
       "       [0.05624062, 0.94375938],\n",
       "       [0.99751194, 0.00248806],\n",
       "       [0.1577149 , 0.8422851 ],\n",
       "       [0.54536834, 0.45463166],\n",
       "       [0.91238787, 0.08761213],\n",
       "       [0.283241  , 0.716759  ],\n",
       "       [0.57008621, 0.42991379],\n",
       "       [0.87831789, 0.12168211],\n",
       "       [0.48520573, 0.51479427],\n",
       "       [0.93661324, 0.06338676],\n",
       "       [0.45232157, 0.54767843],\n",
       "       [0.89634948, 0.10365052],\n",
       "       [0.93461294, 0.06538706],\n",
       "       [0.80408352, 0.19591648],\n",
       "       [0.84465042, 0.15534958],\n",
       "       [0.81671133, 0.18328867],\n",
       "       [0.87760845, 0.12239155],\n",
       "       [0.22831292, 0.77168708],\n",
       "       [0.36399675, 0.63600325],\n",
       "       [0.94689241, 0.05310759],\n",
       "       [0.63962909, 0.36037091],\n",
       "       [0.61420653, 0.38579347],\n",
       "       [0.72168566, 0.27831434],\n",
       "       [0.26450898, 0.73549102],\n",
       "       [0.70026612, 0.29973388],\n",
       "       [0.4012552 , 0.5987448 ],\n",
       "       [0.56470812, 0.43529188],\n",
       "       [0.58200803, 0.41799197],\n",
       "       [0.86289487, 0.13710513],\n",
       "       [0.82452718, 0.17547282],\n",
       "       [0.8894782 , 0.1105218 ],\n",
       "       [0.44227978, 0.55772022],\n",
       "       [0.91333759, 0.08666241],\n",
       "       [0.20202495, 0.79797505],\n",
       "       [0.68180653, 0.31819347],\n",
       "       [0.28624136, 0.71375864],\n",
       "       [0.90275353, 0.09724647],\n",
       "       [0.44267276, 0.55732724],\n",
       "       [0.1760771 , 0.8239229 ],\n",
       "       [0.92035091, 0.07964909],\n",
       "       [0.82447701, 0.17552299],\n",
       "       [0.80672005, 0.19327995],\n",
       "       [0.20723692, 0.79276308],\n",
       "       [0.6487896 , 0.3512104 ],\n",
       "       [0.78242346, 0.21757654],\n",
       "       [0.33192759, 0.66807241],\n",
       "       [0.83305927, 0.16694073],\n",
       "       [0.51412849, 0.48587151],\n",
       "       [0.42568084, 0.57431916],\n",
       "       [0.13396617, 0.86603383],\n",
       "       [0.40058124, 0.59941876],\n",
       "       [0.93269699, 0.06730301],\n",
       "       [0.89981368, 0.10018632],\n",
       "       [0.93407322, 0.06592678],\n",
       "       [0.66205863, 0.33794137],\n",
       "       [0.85060238, 0.14939762],\n",
       "       [0.86437809, 0.13562191],\n",
       "       [0.69149449, 0.30850551],\n",
       "       [0.71957078, 0.28042922],\n",
       "       [0.66283398, 0.33716602],\n",
       "       [0.94153855, 0.05846145],\n",
       "       [0.58775064, 0.41224936],\n",
       "       [0.93832453, 0.06167547],\n",
       "       [0.94456159, 0.05543841],\n",
       "       [0.91017677, 0.08982323],\n",
       "       [0.29504308, 0.70495692],\n",
       "       [0.38451887, 0.61548113],\n",
       "       [0.75415358, 0.24584642],\n",
       "       [0.74023848, 0.25976152],\n",
       "       [0.686444  , 0.313556  ],\n",
       "       [0.91071528, 0.08928472],\n",
       "       [0.46427241, 0.53572759],\n",
       "       [0.74246871, 0.25753129],\n",
       "       [0.93735558, 0.06264442],\n",
       "       [0.72155165, 0.27844835],\n",
       "       [0.91058316, 0.08941684],\n",
       "       [0.95997303, 0.04002697],\n",
       "       [0.84012202, 0.15987798],\n",
       "       [0.99564995, 0.00435005],\n",
       "       [0.96771467, 0.03228533],\n",
       "       [0.86611283, 0.13388717],\n",
       "       [0.56356837, 0.43643163],\n",
       "       [0.58477926, 0.41522074],\n",
       "       [0.12208227, 0.87791773],\n",
       "       [0.81875314, 0.18124686],\n",
       "       [0.77812548, 0.22187452],\n",
       "       [0.34453404, 0.65546596],\n",
       "       [0.70695056, 0.29304944],\n",
       "       [0.99266204, 0.00733796],\n",
       "       [0.16840133, 0.83159867],\n",
       "       [0.90032009, 0.09967991],\n",
       "       [0.97449412, 0.02550588],\n",
       "       [0.3753533 , 0.6246467 ],\n",
       "       [0.88427894, 0.11572106],\n",
       "       [0.14910919, 0.85089081],\n",
       "       [0.73162225, 0.26837775],\n",
       "       [0.83288545, 0.16711455],\n",
       "       [0.83815003, 0.16184997],\n",
       "       [0.96364282, 0.03635718],\n",
       "       [0.16458695, 0.83541305],\n",
       "       [0.32089764, 0.67910236],\n",
       "       [0.68866956, 0.31133044],\n",
       "       [0.93080735, 0.06919265],\n",
       "       [0.26765437, 0.73234563],\n",
       "       [0.77821265, 0.22178735],\n",
       "       [0.66030439, 0.33969561],\n",
       "       [0.91716966, 0.08283034],\n",
       "       [0.91447934, 0.08552066],\n",
       "       [0.89293984, 0.10706016],\n",
       "       [0.71631146, 0.28368854],\n",
       "       [0.89712855, 0.10287145],\n",
       "       [0.37930412, 0.62069588],\n",
       "       [0.86370124, 0.13629876],\n",
       "       [0.55360168, 0.44639832],\n",
       "       [0.76623372, 0.23376628],\n",
       "       [0.11637311, 0.88362689],\n",
       "       [0.21398443, 0.78601557],\n",
       "       [0.39519857, 0.60480143],\n",
       "       [0.91542823, 0.08457177],\n",
       "       [0.33580523, 0.66419477],\n",
       "       [0.8585953 , 0.1414047 ],\n",
       "       [0.81646251, 0.18353749],\n",
       "       [0.67592799, 0.32407201],\n",
       "       [0.7878791 , 0.2121209 ],\n",
       "       [0.94950142, 0.05049858],\n",
       "       [0.22358859, 0.77641141],\n",
       "       [0.85313457, 0.14686543],\n",
       "       [0.71729266, 0.28270734],\n",
       "       [0.19938026, 0.80061974],\n",
       "       [0.67404674, 0.32595326],\n",
       "       [0.46498156, 0.53501844],\n",
       "       [0.79865283, 0.20134717],\n",
       "       [0.47177725, 0.52822275],\n",
       "       [0.81827927, 0.18172073],\n",
       "       [0.19429371, 0.80570629],\n",
       "       [0.87809291, 0.12190709],\n",
       "       [0.34344758, 0.65655242],\n",
       "       [0.75651977, 0.24348023],\n",
       "       [0.88954936, 0.11045064],\n",
       "       [0.96216935, 0.03783065],\n",
       "       [0.48412014, 0.51587986],\n",
       "       [0.80725092, 0.19274908],\n",
       "       [0.69453968, 0.30546032],\n",
       "       [0.77111857, 0.22888143],\n",
       "       [0.53422486, 0.46577514],\n",
       "       [0.89874084, 0.10125916],\n",
       "       [0.68574252, 0.31425748],\n",
       "       [0.339309  , 0.660691  ],\n",
       "       [0.71814372, 0.28185628],\n",
       "       [0.93512941, 0.06487059],\n",
       "       [0.74062742, 0.25937258],\n",
       "       [0.71369096, 0.28630904],\n",
       "       [0.98167158, 0.01832842],\n",
       "       [0.58913091, 0.41086909],\n",
       "       [0.81450806, 0.18549194],\n",
       "       [0.67702287, 0.32297713],\n",
       "       [0.69537778, 0.30462222],\n",
       "       [0.21805887, 0.78194113],\n",
       "       [0.01772483, 0.98227517],\n",
       "       [0.96202548, 0.03797452],\n",
       "       [0.50785655, 0.49214345],\n",
       "       [0.23168557, 0.76831443],\n",
       "       [0.96519475, 0.03480525],\n",
       "       [0.887678  , 0.112322  ],\n",
       "       [0.78336975, 0.21663025],\n",
       "       [0.74424869, 0.25575131],\n",
       "       [0.48183176, 0.51816824],\n",
       "       [0.54918061, 0.45081939],\n",
       "       [0.84594805, 0.15405195],\n",
       "       [0.8846397 , 0.1153603 ],\n",
       "       [0.66581023, 0.33418977],\n",
       "       [0.51571341, 0.48428659],\n",
       "       [0.80793575, 0.19206425],\n",
       "       [0.98607564, 0.01392436],\n",
       "       [0.9497881 , 0.0502119 ],\n",
       "       [0.49189451, 0.50810549],\n",
       "       [0.83288017, 0.16711983],\n",
       "       [0.21207992, 0.78792008],\n",
       "       [0.92394121, 0.07605879],\n",
       "       [0.2069783 , 0.7930217 ],\n",
       "       [0.70917642, 0.29082358],\n",
       "       [0.89529174, 0.10470826],\n",
       "       [0.83506799, 0.16493201],\n",
       "       [0.9612592 , 0.0387408 ]])"
      ]
     },
     "execution_count": 30,
     "metadata": {},
     "output_type": "execute_result"
    }
   ],
   "source": [
    "y_pred_proba = model.predict_proba(x_test)\n",
    "y_pred_proba"
   ]
  },
  {
   "cell_type": "code",
   "execution_count": null,
   "id": "dedc426f",
   "metadata": {},
   "outputs": [],
   "source": [
    "# first 5 class probability, threshold value = 0.5 by default\n",
    "\n",
    "\n",
    "[    0     ,      1    ]\n",
    "[0.91636267, 0.08363733], >> 0\n",
    "[0.32428013, 0.67571987], >> 1\n",
    "[0.74017864, 0.25982136], >> 0\n",
    "[0.46076794, 0.53923206], >> 1\n",
    "[0.87524548, 0.12475452], >> 0"
   ]
  },
  {
   "cell_type": "code",
   "execution_count": 32,
   "id": "e9473cd8",
   "metadata": {},
   "outputs": [
    {
     "name": "stdout",
     "output_type": "stream",
     "text": [
      "Confusion Matrix:\n",
      " [[108  17]\n",
      " [ 30  37]]\n",
      "*********************************************\n",
      "Accuracy Score:\n",
      " 0.7552083333333334\n",
      "*********************************************\n",
      "classification_report:\n",
      "               precision    recall  f1-score   support\n",
      "\n",
      "           0       0.78      0.86      0.82       125\n",
      "           1       0.69      0.55      0.61        67\n",
      "\n",
      "    accuracy                           0.76       192\n",
      "   macro avg       0.73      0.71      0.72       192\n",
      "weighted avg       0.75      0.76      0.75       192\n",
      "\n"
     ]
    }
   ],
   "source": [
    "#Testing Data\n",
    "\n",
    "y_pred = model.predict(x_test)\n",
    "\n",
    "cnf_matrix = confusion_matrix(y_test, y_pred)\n",
    "print(\"Confusion Matrix:\\n\", cnf_matrix)\n",
    "\n",
    "print(\"*\"*45)\n",
    "\n",
    "accaracy = accuracy_score(y_test, y_pred)\n",
    "print(\"Accuracy Score:\\n\", accaracy)\n",
    "\n",
    "print(\"*\"*45)\n",
    "\n",
    "clf_report = classification_report(y_test, y_pred)\n",
    "print(\"classification_report:\\n\", clf_report)"
   ]
  },
  {
   "cell_type": "code",
   "execution_count": 33,
   "id": "23156937",
   "metadata": {},
   "outputs": [
    {
     "name": "stdout",
     "output_type": "stream",
     "text": [
      "Confusion Matrix:\n",
      " [[336  39]\n",
      " [ 83 118]]\n",
      "*********************************************\n",
      "Accuracy Score:\n",
      " 0.7881944444444444\n",
      "*********************************************\n",
      "classification_report:\n",
      "               precision    recall  f1-score   support\n",
      "\n",
      "           0       0.80      0.90      0.85       375\n",
      "           1       0.75      0.59      0.66       201\n",
      "\n",
      "    accuracy                           0.79       576\n",
      "   macro avg       0.78      0.74      0.75       576\n",
      "weighted avg       0.78      0.79      0.78       576\n",
      "\n"
     ]
    }
   ],
   "source": [
    "#Training Data\n",
    "\n",
    "y_pred_train = model.predict(x_train)\n",
    "\n",
    "cnf_matrix = confusion_matrix(y_train, y_pred_train)\n",
    "print(\"Confusion Matrix:\\n\", cnf_matrix)\n",
    "\n",
    "print(\"*\"*45)\n",
    "\n",
    "accaracy = accuracy_score(y_train, y_pred_train)\n",
    "print(\"Accuracy Score:\\n\", accaracy)\n",
    "\n",
    "print(\"*\"*45)\n",
    "\n",
    "clf_report = classification_report(y_train, y_pred_train)\n",
    "print(\"classification_report:\\n\", clf_report)"
   ]
  },
  {
   "cell_type": "code",
   "execution_count": 34,
   "id": "250d0bdd",
   "metadata": {},
   "outputs": [
    {
     "data": {
      "text/plain": [
       "0.7825"
      ]
     },
     "execution_count": 34,
     "metadata": {},
     "output_type": "execute_result"
    }
   ],
   "source": [
    "#Weighted Average \n",
    "#Precision\n",
    "(0.80 * 0.65)+(0.75 * 0.35)"
   ]
  },
  {
   "cell_type": "code",
   "execution_count": 35,
   "id": "558f898a",
   "metadata": {},
   "outputs": [
    {
     "data": {
      "text/plain": [
       "0.7915000000000001"
      ]
     },
     "execution_count": 35,
     "metadata": {},
     "output_type": "execute_result"
    }
   ],
   "source": [
    "#Weighted Average \n",
    "#Recall\n",
    "(0.90 * 0.65)+(0.59 * 0.35)"
   ]
  },
  {
   "cell_type": "code",
   "execution_count": 36,
   "id": "b388e961",
   "metadata": {},
   "outputs": [
    {
     "data": {
      "text/plain": [
       "0.7881944444444444"
      ]
     },
     "execution_count": 36,
     "metadata": {},
     "output_type": "execute_result"
    }
   ],
   "source": [
    "# Accuracy = TP+TN/(TP+TN+FP+FN)\n",
    "\n",
    "Accuracy = (118+336)/(118+336+83+39)\n",
    "Accuracy"
   ]
  },
  {
   "cell_type": "code",
   "execution_count": null,
   "id": "1235b2cd",
   "metadata": {},
   "outputs": [],
   "source": [
    "Confusion Matrix:\n",
    "Predicted Values\n",
    "[[336  39]     Actual Values\n",
    " [ 83 118]]    Actual Values\n",
    "\n",
    "TN = 336\n",
    "FP = 39\n",
    "FN = 83\n",
    "TP = 118"
   ]
  },
  {
   "cell_type": "code",
   "execution_count": 37,
   "id": "d9f84d10",
   "metadata": {},
   "outputs": [
    {
     "data": {
      "text/plain": [
       "0.7515923566878981"
      ]
     },
     "execution_count": 37,
     "metadata": {},
     "output_type": "execute_result"
    }
   ],
   "source": [
    "# Precision for class 1 --> We are considering class 1 i.e. Positive class\n",
    "# Precision = TP/(TP+FP)\n",
    "Precision_1 = 118/(118+39)\n",
    "Precision_1"
   ]
  },
  {
   "cell_type": "code",
   "execution_count": 38,
   "id": "d1efbe9b",
   "metadata": {},
   "outputs": [
    {
     "data": {
      "text/plain": [
       "0.801909307875895"
      ]
     },
     "execution_count": 38,
     "metadata": {},
     "output_type": "execute_result"
    }
   ],
   "source": [
    "# Precision for class 0 --> We are considering class 0 i.e. Negative class\n",
    "# Precision = TN/(TN+FN)\n",
    "Precision_1 = 336/(336+83)\n",
    "Precision_1"
   ]
  },
  {
   "cell_type": "markdown",
   "id": "704cc413",
   "metadata": {},
   "source": [
    "# AUC-ROC Curve"
   ]
  },
  {
   "cell_type": "code",
   "execution_count": 39,
   "id": "41a35cb6",
   "metadata": {},
   "outputs": [
    {
     "data": {
      "text/plain": [
       "array([1.99272553, 0.99272553, 0.97542289, 0.96591652, 0.95922174,\n",
       "       0.91750858, 0.91653835, 0.90790654, 0.89684045, 0.81404227,\n",
       "       0.8056952 , 0.79994735, 0.79729249, 0.77792583, 0.77731446,\n",
       "       0.77282899, 0.76974989, 0.76622724, 0.76444426, 0.76339967,\n",
       "       0.75949177, 0.75692479, 0.75065229, 0.74135654, 0.73190355,\n",
       "       0.72943527, 0.72934918, 0.71544862, 0.71069171, 0.69338436,\n",
       "       0.68828441, 0.68281595, 0.67944581, 0.67216837, 0.66874108,\n",
       "       0.66569689, 0.66308985, 0.64849259, 0.64827152, 0.63825982,\n",
       "       0.63457558, 0.6290556 , 0.6166219 , 0.61119774, 0.60701154,\n",
       "       0.59989203, 0.59164584, 0.58768307, 0.58485243, 0.58039752,\n",
       "       0.57596259, 0.55404803, 0.55322821, 0.53787721, 0.53663669,\n",
       "       0.53061605, 0.52928549, 0.51346379, 0.51140976, 0.51017869,\n",
       "       0.50621615, 0.50350169, 0.49851434, 0.49777746, 0.49324985,\n",
       "       0.49219427, 0.48504662, 0.48206973, 0.47928012, 0.47685857,\n",
       "       0.47639108, 0.46303398, 0.45996874, 0.4527099 , 0.44428753,\n",
       "       0.44369017, 0.44146634, 0.43870908, 0.43863709, 0.43632765,\n",
       "       0.42824605, 0.42730877, 0.42596779, 0.4198088 , 0.41963359,\n",
       "       0.40957668, 0.40778125, 0.39544993, 0.39429203, 0.39418332,\n",
       "       0.39159907, 0.38866448, 0.38813424, 0.38798334, 0.37684956,\n",
       "       0.37545764, 0.37127351, 0.36799241, 0.35503539, 0.35317655,\n",
       "       0.35094203, 0.35086285, 0.35039077, 0.35001401, 0.34710697,\n",
       "       0.3441592 , 0.3215652 , 0.32076553, 0.31902088, 0.31075652,\n",
       "       0.31052521, 0.30211825, 0.29574224, 0.29418415, 0.29262605,\n",
       "       0.29095375, 0.2905585 , 0.2900754 , 0.28760788, 0.28528003,\n",
       "       0.28218929, 0.28116311, 0.27691161, 0.2723203 , 0.26713467,\n",
       "       0.26622826, 0.25690644, 0.25575095, 0.25547009, 0.2550155 ,\n",
       "       0.25307682, 0.25275318, 0.24757211, 0.24484097, 0.24161241,\n",
       "       0.23861778, 0.23515007, 0.23449568, 0.23208489, 0.2278722 ,\n",
       "       0.22365273, 0.2208895 , 0.21819045, 0.2165471 , 0.21224794,\n",
       "       0.21209718, 0.21148949, 0.21011222, 0.20644184, 0.20603457,\n",
       "       0.2007096 , 0.20021417, 0.19674325, 0.19671977, 0.17039539,\n",
       "       0.17014972, 0.16959007, 0.16938184, 0.15989055, 0.15923725,\n",
       "       0.1504874 , 0.14875197, 0.1367934 , 0.13666183, 0.13046201,\n",
       "       0.12857042, 0.1253743 , 0.12489703, 0.11550832, 0.11537806,\n",
       "       0.1132522 , 0.11294731, 0.1030669 , 0.10245438, 0.09619339,\n",
       "       0.09590768, 0.03420691, 0.03255404, 0.02377286, 0.02273125,\n",
       "       0.01502948, 0.01455637, 0.00259798])"
      ]
     },
     "execution_count": 39,
     "metadata": {},
     "output_type": "execute_result"
    }
   ],
   "source": [
    "# Prediction Probability\n",
    "y_pred_proba = model.predict_proba(x_train)\n",
    "y_pred_proba[:,1]  # we are getting class 1 probability\n",
    "\n",
    "fpr, tpr, thresh = roc_curve(y_train, y_pred_proba[:,1])\n",
    "thresh"
   ]
  },
  {
   "cell_type": "code",
   "execution_count": 40,
   "id": "fd0f0970",
   "metadata": {},
   "outputs": [
    {
     "data": {
      "text/plain": [
       "Text(0.5, 1.0, 'Receiver Operating Characteristics')"
      ]
     },
     "execution_count": 40,
     "metadata": {},
     "output_type": "execute_result"
    },
    {
     "data": {
      "image/png": "[encoded data removed]",
      "text/plain": [
       "<Figure size 432x288 with 1 Axes>"
      ]
     },
     "metadata": {
      "needs_background": "light"
     },
     "output_type": "display_data"
    }
   ],
   "source": [
    "# Plot AUC-ROC \n",
    "plt.plot(fpr,tpr)\n",
    "plt.xlabel(\"False Positive Rate -->\")\n",
    "plt.ylabel(\"True Positive Rate -->\")\n",
    "plt.title(\"Receiver Operating Characteristics\")"
   ]
  },
  {
   "cell_type": "code",
   "execution_count": 41,
   "id": "b9078b55",
   "metadata": {},
   "outputs": [
    {
     "data": {
      "text/plain": [
       "0.50350168621213"
      ]
     },
     "execution_count": 41,
     "metadata": {},
     "output_type": "execute_result"
    }
   ],
   "source": [
    "y_pred_proba = model.predict_proba(x_train)\n",
    "y_pred_proba[:,1]  # we are getting class 1 probability\n",
    "\n",
    "fpr, tpr, thresh = roc_curve(y_train, y_pred_proba[:,1])\n",
    "np.where(thresh >= 0.4999999)\n",
    "thresh[61]"
   ]
  },
  {
   "cell_type": "code",
   "execution_count": 42,
   "id": "92440bff",
   "metadata": {},
   "outputs": [
    {
     "data": {
      "text/plain": [
       "0.104"
      ]
     },
     "execution_count": 42,
     "metadata": {},
     "output_type": "execute_result"
    }
   ],
   "source": [
    "fpr[61]"
   ]
  },
  {
   "cell_type": "code",
   "execution_count": 43,
   "id": "1b535c02",
   "metadata": {},
   "outputs": [
    {
     "data": {
      "text/plain": [
       "0.5870646766169154"
      ]
     },
     "execution_count": 43,
     "metadata": {},
     "output_type": "execute_result"
    }
   ],
   "source": [
    "tpr[61]"
   ]
  },
  {
   "cell_type": "code",
   "execution_count": 44,
   "id": "c416ab57",
   "metadata": {},
   "outputs": [
    {
     "data": {
      "text/plain": [
       "0.104"
      ]
     },
     "execution_count": 44,
     "metadata": {},
     "output_type": "execute_result"
    }
   ],
   "source": [
    "# [[336  39\n",
    "#  [83  118]]\n",
    "    \n",
    "TP = 118\n",
    "TN = 336\n",
    "FP = 39\n",
    "FN = 83\n",
    "\n",
    "fpr = FP/(FP+TN)\n",
    "fpr = 39/(39+336)\n",
    "fpr"
   ]
  },
  {
   "cell_type": "code",
   "execution_count": 45,
   "id": "7a20147b",
   "metadata": {},
   "outputs": [
    {
     "data": {
      "text/plain": [
       "84.0"
      ]
     },
     "execution_count": 45,
     "metadata": {},
     "output_type": "execute_result"
    }
   ],
   "source": [
    "tpr = TP/(TP+FN)\n",
    "tpr = 118/118+83\n",
    "tpr"
   ]
  },
  {
   "cell_type": "code",
   "execution_count": 46,
   "id": "0346d335",
   "metadata": {},
   "outputs": [],
   "source": [
    "# Calculate AUC"
   ]
  },
  {
   "cell_type": "code",
   "execution_count": 47,
   "id": "ed0d9230",
   "metadata": {},
   "outputs": [
    {
     "data": {
      "text/plain": [
       "0.8404112769485904"
      ]
     },
     "execution_count": 47,
     "metadata": {},
     "output_type": "execute_result"
    }
   ],
   "source": [
    "auc_value = roc_auc_score(y_train, y_pred_proba[:,1])\n",
    "auc_value"
   ]
  },
  {
   "cell_type": "markdown",
   "id": "d8faf251",
   "metadata": {},
   "source": [
    "# Predict on Single Row"
   ]
  },
  {
   "cell_type": "code",
   "execution_count": 49,
   "id": "3e72cdb3",
   "metadata": {},
   "outputs": [
    {
     "data": {
      "text/html": [
       "<div>\n",
       "<style scoped>\n",
       "    .dataframe tbody tr th:only-of-type {\n",
       "        vertical-align: middle;\n",
       "    }\n",
       "\n",
       "    .dataframe tbody tr th {\n",
       "        vertical-align: top;\n",
       "    }\n",
       "\n",
       "    .dataframe thead th {\n",
       "        text-align: right;\n",
       "    }\n",
       "</style>\n",
       "<table border=\"1\" class=\"dataframe\">\n",
       "  <thead>\n",
       "    <tr style=\"text-align: right;\">\n",
       "      <th></th>\n",
       "      <th>0</th>\n",
       "    </tr>\n",
       "  </thead>\n",
       "  <tbody>\n",
       "    <tr>\n",
       "      <th>Glucose</th>\n",
       "      <td>148.000</td>\n",
       "    </tr>\n",
       "    <tr>\n",
       "      <th>BloodPressure</th>\n",
       "      <td>50.000</td>\n",
       "    </tr>\n",
       "    <tr>\n",
       "      <th>SkinThickness</th>\n",
       "      <td>35.000</td>\n",
       "    </tr>\n",
       "    <tr>\n",
       "      <th>Insulin</th>\n",
       "      <td>0.000</td>\n",
       "    </tr>\n",
       "    <tr>\n",
       "      <th>BMI</th>\n",
       "      <td>33.600</td>\n",
       "    </tr>\n",
       "    <tr>\n",
       "      <th>DiabetesPedigreeFunction</th>\n",
       "      <td>0.627</td>\n",
       "    </tr>\n",
       "    <tr>\n",
       "      <th>Age</th>\n",
       "      <td>50.000</td>\n",
       "    </tr>\n",
       "  </tbody>\n",
       "</table>\n",
       "</div>"
      ],
      "text/plain": [
       "                                0\n",
       "Glucose                   148.000\n",
       "BloodPressure              50.000\n",
       "SkinThickness              35.000\n",
       "Insulin                     0.000\n",
       "BMI                        33.600\n",
       "DiabetesPedigreeFunction    0.627\n",
       "Age                        50.000"
      ]
     },
     "execution_count": 49,
     "metadata": {},
     "output_type": "execute_result"
    }
   ],
   "source": [
    "x.head(1).T"
   ]
  },
  {
   "cell_type": "code",
   "execution_count": 50,
   "id": "9e377cb9",
   "metadata": {},
   "outputs": [],
   "source": [
    "Glucose = 188.000\n",
    "BloodPressure = 55.000\n",
    "SkinThickness = 25.000\n",
    "Insulin = 0.000\n",
    "BMI = 25.600\n",
    "DiabetesPedigreeFunction = 0.52\n",
    "Age = 45"
   ]
  },
  {
   "cell_type": "code",
   "execution_count": 51,
   "id": "a672e47b",
   "metadata": {},
   "outputs": [
    {
     "data": {
      "text/plain": [
       "Index(['Glucose', 'BloodPressure', 'SkinThickness', 'Insulin', 'BMI',\n",
       "       'DiabetesPedigreeFunction', 'Age'],\n",
       "      dtype='object')"
      ]
     },
     "execution_count": 51,
     "metadata": {},
     "output_type": "execute_result"
    }
   ],
   "source": [
    "columns = x.columns\n",
    "columns"
   ]
  },
  {
   "cell_type": "code",
   "execution_count": 52,
   "id": "b3b1a57c",
   "metadata": {},
   "outputs": [
    {
     "data": {
      "text/plain": [
       "{'column': ['Glucose',\n",
       "  'BloodPressure',\n",
       "  'SkinThickness',\n",
       "  'Insulin',\n",
       "  'BMI',\n",
       "  'DiabetesPedigreeFunction',\n",
       "  'Age']}"
      ]
     },
     "execution_count": 52,
     "metadata": {},
     "output_type": "execute_result"
    }
   ],
   "source": [
    "project_data = {'column':list(columns)}\n",
    "project_data"
   ]
  },
  {
   "cell_type": "code",
   "execution_count": 53,
   "id": "edcebb6a",
   "metadata": {},
   "outputs": [
    {
     "data": {
      "text/plain": [
       "array([0, 0, 0, 0, 0, 0, 0])"
      ]
     },
     "execution_count": 53,
     "metadata": {},
     "output_type": "execute_result"
    }
   ],
   "source": [
    "array = np.zeros(len(project_data[\"column\"]), dtype=int)\n",
    "array"
   ]
  },
  {
   "cell_type": "code",
   "execution_count": 54,
   "id": "1366d9aa",
   "metadata": {},
   "outputs": [
    {
     "data": {
      "text/plain": [
       "array([188,  55,  25,   0,  25,   0,  55])"
      ]
     },
     "execution_count": 54,
     "metadata": {},
     "output_type": "execute_result"
    }
   ],
   "source": [
    "array[0] = Glucose\n",
    "array[1] = BloodPressure\n",
    "array[2] = SkinThickness\n",
    "array[3] = Insulin\n",
    "array[4] = BMI\n",
    "array[5] = DiabetesPedigreeFunction\n",
    "array[6] = Age\n",
    "array"
   ]
  },
  {
   "cell_type": "code",
   "execution_count": 56,
   "id": "497c98d3",
   "metadata": {},
   "outputs": [
    {
     "data": {
      "text/plain": [
       "1"
      ]
     },
     "execution_count": 56,
     "metadata": {},
     "output_type": "execute_result"
    }
   ],
   "source": [
    "Diabetes_pred = model.predict([array])[0]\n",
    "Diabetes_pred"
   ]
  },
  {
   "cell_type": "code",
   "execution_count": 58,
   "id": "735f5f78",
   "metadata": {},
   "outputs": [],
   "source": [
    "#create pickle and json file\n",
    "\n",
    "import pickle\n",
    "import json \n",
    "\n",
    "with open('diabetes_data.pkl', 'wb')as f:\n",
    "    pickle.dump(model, f)\n",
    "    \n",
    "with open(\"project_data.json\", 'w')as f:\n",
    "    json.dump(project_data, f)"
   ]
  },
  {
   "cell_type": "code",
   "execution_count": null,
   "id": "d425bd24",
   "metadata": {},
   "outputs": [],
   "source": []
  },
  {
   "cell_type": "code",
   "execution_count": null,
   "id": "f2d145d4",
   "metadata": {},
   "outputs": [],
   "source": []
  },
  {
   "cell_type": "code",
   "execution_count": null,
   "id": "2f9b202b",
   "metadata": {},
   "outputs": [],
   "source": []
  }
 ],
 "metadata": {
  "kernelspec": {
   "display_name": "Python 3 (ipykernel)",
   "language": "python",
   "name": "python3"
  },
  "language_info": {
   "codemirror_mode": {
    "name": "ipython",
    "version": 3
   },
   "file_extension": ".py",
   "mimetype": "text/x-python",
   "name": "python",
   "nbconvert_exporter": "python",
   "pygments_lexer": "ipython3",
   "version": "3.9.12"
  },
  "vscode": {
   "interpreter": {
    "hash": "26de051ba29f2982a8de78e945f0abaf191376122a1563185a90213a26c5da77"
   }
  }
 },
 "nbformat": 4,
 "nbformat_minor": 5
}
